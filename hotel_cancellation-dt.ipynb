{
 "cells": [
  {
   "cell_type": "code",
   "execution_count": 8,
   "metadata": {},
   "outputs": [],
   "source": [
    "import numpy as np\n",
    "import pandas as pd\n",
    "import seaborn as sns\n",
    "from matplotlib import pyplot as mp\n",
    "from sklearn import tree \n",
    "from sklearn.model_selection import train_test_split\n",
    "from sklearn.tree import DecisionTreeClassifier as dtc \n",
    "from sklearn.metrics import accuracy_score, confusion_matrix, classification_report\n",
    "from sklearn.preprocessing import LabelEncoder"
   ]
  },
  {
   "cell_type": "code",
   "execution_count": 9,
   "metadata": {},
   "outputs": [
    {
     "data": {
      "text/html": [
       "<div>\n",
       "<style scoped>\n",
       "    .dataframe tbody tr th:only-of-type {\n",
       "        vertical-align: middle;\n",
       "    }\n",
       "\n",
       "    .dataframe tbody tr th {\n",
       "        vertical-align: top;\n",
       "    }\n",
       "\n",
       "    .dataframe thead th {\n",
       "        text-align: right;\n",
       "    }\n",
       "</style>\n",
       "<table border=\"1\" class=\"dataframe\">\n",
       "  <thead>\n",
       "    <tr style=\"text-align: right;\">\n",
       "      <th></th>\n",
       "      <th>hotel</th>\n",
       "      <th>is_canceled</th>\n",
       "      <th>lead_time</th>\n",
       "      <th>arrival_date_year</th>\n",
       "      <th>arrival_date_month</th>\n",
       "      <th>arrival_date_week_number</th>\n",
       "      <th>arrival_date_day_of_month</th>\n",
       "      <th>stays_in_weekend_nights</th>\n",
       "      <th>stays_in_week_nights</th>\n",
       "      <th>adults</th>\n",
       "      <th>...</th>\n",
       "      <th>deposit_type</th>\n",
       "      <th>agent</th>\n",
       "      <th>company</th>\n",
       "      <th>days_in_waiting_list</th>\n",
       "      <th>customer_type</th>\n",
       "      <th>adr</th>\n",
       "      <th>required_car_parking_spaces</th>\n",
       "      <th>total_of_special_requests</th>\n",
       "      <th>reservation_status</th>\n",
       "      <th>reservation_status_date</th>\n",
       "    </tr>\n",
       "  </thead>\n",
       "  <tbody>\n",
       "    <tr>\n",
       "      <th>0</th>\n",
       "      <td>Resort Hotel</td>\n",
       "      <td>0</td>\n",
       "      <td>342</td>\n",
       "      <td>2015</td>\n",
       "      <td>July</td>\n",
       "      <td>27</td>\n",
       "      <td>1</td>\n",
       "      <td>0</td>\n",
       "      <td>0</td>\n",
       "      <td>2</td>\n",
       "      <td>...</td>\n",
       "      <td>No Deposit</td>\n",
       "      <td>NaN</td>\n",
       "      <td>NaN</td>\n",
       "      <td>0</td>\n",
       "      <td>Transient</td>\n",
       "      <td>0.0</td>\n",
       "      <td>0</td>\n",
       "      <td>0</td>\n",
       "      <td>Check-Out</td>\n",
       "      <td>2015-07-01</td>\n",
       "    </tr>\n",
       "    <tr>\n",
       "      <th>1</th>\n",
       "      <td>Resort Hotel</td>\n",
       "      <td>0</td>\n",
       "      <td>737</td>\n",
       "      <td>2015</td>\n",
       "      <td>July</td>\n",
       "      <td>27</td>\n",
       "      <td>1</td>\n",
       "      <td>0</td>\n",
       "      <td>0</td>\n",
       "      <td>2</td>\n",
       "      <td>...</td>\n",
       "      <td>No Deposit</td>\n",
       "      <td>NaN</td>\n",
       "      <td>NaN</td>\n",
       "      <td>0</td>\n",
       "      <td>Transient</td>\n",
       "      <td>0.0</td>\n",
       "      <td>0</td>\n",
       "      <td>0</td>\n",
       "      <td>Check-Out</td>\n",
       "      <td>2015-07-01</td>\n",
       "    </tr>\n",
       "    <tr>\n",
       "      <th>2</th>\n",
       "      <td>Resort Hotel</td>\n",
       "      <td>0</td>\n",
       "      <td>7</td>\n",
       "      <td>2015</td>\n",
       "      <td>July</td>\n",
       "      <td>27</td>\n",
       "      <td>1</td>\n",
       "      <td>0</td>\n",
       "      <td>1</td>\n",
       "      <td>1</td>\n",
       "      <td>...</td>\n",
       "      <td>No Deposit</td>\n",
       "      <td>NaN</td>\n",
       "      <td>NaN</td>\n",
       "      <td>0</td>\n",
       "      <td>Transient</td>\n",
       "      <td>75.0</td>\n",
       "      <td>0</td>\n",
       "      <td>0</td>\n",
       "      <td>Check-Out</td>\n",
       "      <td>2015-07-02</td>\n",
       "    </tr>\n",
       "    <tr>\n",
       "      <th>3</th>\n",
       "      <td>Resort Hotel</td>\n",
       "      <td>0</td>\n",
       "      <td>13</td>\n",
       "      <td>2015</td>\n",
       "      <td>July</td>\n",
       "      <td>27</td>\n",
       "      <td>1</td>\n",
       "      <td>0</td>\n",
       "      <td>1</td>\n",
       "      <td>1</td>\n",
       "      <td>...</td>\n",
       "      <td>No Deposit</td>\n",
       "      <td>304.0</td>\n",
       "      <td>NaN</td>\n",
       "      <td>0</td>\n",
       "      <td>Transient</td>\n",
       "      <td>75.0</td>\n",
       "      <td>0</td>\n",
       "      <td>0</td>\n",
       "      <td>Check-Out</td>\n",
       "      <td>2015-07-02</td>\n",
       "    </tr>\n",
       "    <tr>\n",
       "      <th>4</th>\n",
       "      <td>Resort Hotel</td>\n",
       "      <td>0</td>\n",
       "      <td>14</td>\n",
       "      <td>2015</td>\n",
       "      <td>July</td>\n",
       "      <td>27</td>\n",
       "      <td>1</td>\n",
       "      <td>0</td>\n",
       "      <td>2</td>\n",
       "      <td>2</td>\n",
       "      <td>...</td>\n",
       "      <td>No Deposit</td>\n",
       "      <td>240.0</td>\n",
       "      <td>NaN</td>\n",
       "      <td>0</td>\n",
       "      <td>Transient</td>\n",
       "      <td>98.0</td>\n",
       "      <td>0</td>\n",
       "      <td>1</td>\n",
       "      <td>Check-Out</td>\n",
       "      <td>2015-07-03</td>\n",
       "    </tr>\n",
       "  </tbody>\n",
       "</table>\n",
       "<p>5 rows × 32 columns</p>\n",
       "</div>"
      ],
      "text/plain": [
       "          hotel  is_canceled  lead_time  arrival_date_year arrival_date_month  \\\n",
       "0  Resort Hotel            0        342               2015               July   \n",
       "1  Resort Hotel            0        737               2015               July   \n",
       "2  Resort Hotel            0          7               2015               July   \n",
       "3  Resort Hotel            0         13               2015               July   \n",
       "4  Resort Hotel            0         14               2015               July   \n",
       "\n",
       "   arrival_date_week_number  arrival_date_day_of_month  \\\n",
       "0                        27                          1   \n",
       "1                        27                          1   \n",
       "2                        27                          1   \n",
       "3                        27                          1   \n",
       "4                        27                          1   \n",
       "\n",
       "   stays_in_weekend_nights  stays_in_week_nights  adults  ...  deposit_type  \\\n",
       "0                        0                     0       2  ...    No Deposit   \n",
       "1                        0                     0       2  ...    No Deposit   \n",
       "2                        0                     1       1  ...    No Deposit   \n",
       "3                        0                     1       1  ...    No Deposit   \n",
       "4                        0                     2       2  ...    No Deposit   \n",
       "\n",
       "   agent company days_in_waiting_list customer_type   adr  \\\n",
       "0    NaN     NaN                    0     Transient   0.0   \n",
       "1    NaN     NaN                    0     Transient   0.0   \n",
       "2    NaN     NaN                    0     Transient  75.0   \n",
       "3  304.0     NaN                    0     Transient  75.0   \n",
       "4  240.0     NaN                    0     Transient  98.0   \n",
       "\n",
       "   required_car_parking_spaces  total_of_special_requests  reservation_status  \\\n",
       "0                            0                          0           Check-Out   \n",
       "1                            0                          0           Check-Out   \n",
       "2                            0                          0           Check-Out   \n",
       "3                            0                          0           Check-Out   \n",
       "4                            0                          1           Check-Out   \n",
       "\n",
       "  reservation_status_date  \n",
       "0              2015-07-01  \n",
       "1              2015-07-01  \n",
       "2              2015-07-02  \n",
       "3              2015-07-02  \n",
       "4              2015-07-03  \n",
       "\n",
       "[5 rows x 32 columns]"
      ]
     },
     "execution_count": 9,
     "metadata": {},
     "output_type": "execute_result"
    }
   ],
   "source": [
    "dataset = pd.read_csv(\"hotel_bookings.csv\")\n",
    "#read the dataset\n",
    "dataset.head()\n",
    "#get first 5 rows"
   ]
  },
  {
   "cell_type": "code",
   "execution_count": 10,
   "metadata": {},
   "outputs": [],
   "source": [
    "dt = dataset.isna().sum()\n",
    "dt = dt[dt != 0] \n",
    "#find null values"
   ]
  },
  {
   "cell_type": "code",
   "execution_count": 11,
   "metadata": {},
   "outputs": [],
   "source": [
    "dataset.fillna({'country':'Unknown'},inplace= True)\n",
    "dataset.fillna({'children':0.0}, inplace = True)\n",
    "dataset.fillna({'company':0.0}, inplace = True)\n",
    "dataset.fillna({'agent':0.0}, inplace = True)\n",
    "# convert the null values to 0.0"
   ]
  },
  {
   "cell_type": "code",
   "execution_count": 12,
   "metadata": {},
   "outputs": [
    {
     "data": {
      "text/plain": [
       "<AxesSubplot:xlabel='hotel', ylabel='is_canceled'>"
      ]
     },
     "execution_count": 12,
     "metadata": {},
     "output_type": "execute_result"
    },
    {
     "data": {
      "image/png": "[encoded data removed]",
      "text/plain": [
       "<Figure size 432x288 with 1 Axes>"
      ]
     },
     "metadata": {
      "needs_background": "light"
     },
     "output_type": "display_data"
    }
   ],
   "source": [
    "sns.barplot(x = 'hotel', y = 'is_canceled', data = dataset)"
   ]
  },
  {
   "cell_type": "code",
   "execution_count": 13,
   "metadata": {},
   "outputs": [
    {
     "data": {
      "text/plain": [
       "<AxesSubplot:xlabel='arrival_date_month', ylabel='is_canceled'>"
      ]
     },
     "execution_count": 13,
     "metadata": {},
     "output_type": "execute_result"
    },
    {
     "data": {
      "image/png": "[encoded data removed]",
      "text/plain": [
       "<Figure size 432x288 with 1 Axes>"
      ]
     },
     "metadata": {
      "needs_background": "light"
     },
     "output_type": "display_data"
    }
   ],
   "source": [
    "sns.barplot(x = 'arrival_date_month', y = 'is_canceled', data = dataset)"
   ]
  },
  {
   "cell_type": "code",
   "execution_count": 14,
   "metadata": {},
   "outputs": [
    {
     "data": {
      "text/plain": [
       "<AxesSubplot:xlabel='arrival_date_year', ylabel='is_canceled'>"
      ]
     },
     "execution_count": 14,
     "metadata": {},
     "output_type": "execute_result"
    },
    {
     "data": {
      "image/png": "[encoded data removed]",
      "text/plain": [
       "<Figure size 432x288 with 1 Axes>"
      ]
     },
     "metadata": {
      "needs_background": "light"
     },
     "output_type": "display_data"
    }
   ],
   "source": [
    "sns.barplot(x = 'arrival_date_year', y = 'is_canceled', data = dataset)"
   ]
  },
  {
   "cell_type": "code",
   "execution_count": 15,
   "metadata": {},
   "outputs": [
    {
     "data": {
      "image/png": "[encoded data removed]",
      "text/plain": [
       "<Figure size 432x288 with 1 Axes>"
      ]
     },
     "metadata": {},
     "output_type": "display_data"
    }
   ],
   "source": [
    "sns.set(style = \"darkgrid\")\n",
    "mp.title(\"Canceled or not\", fontdict = {'fontsize': 20})\n",
    "ax = sns.countplot(x = \"is_canceled\", hue = 'is_repeated_guest', data = dataset)"
   ]
  },
  {
   "cell_type": "code",
   "execution_count": 16,
   "metadata": {},
   "outputs": [
    {
     "data": {
      "text/plain": [
       "<AxesSubplot:xlabel='children', ylabel='is_canceled'>"
      ]
     },
     "execution_count": 16,
     "metadata": {},
     "output_type": "execute_result"
    },
    {
     "data": {
      "image/png": "[encoded data removed]",
      "text/plain": [
       "<Figure size 432x288 with 1 Axes>"
      ]
     },
     "metadata": {},
     "output_type": "display_data"
    }
   ],
   "source": [
    "sns.barplot(x = 'children', y = 'is_canceled', data = dataset)"
   ]
  },
  {
   "cell_type": "code",
   "execution_count": 17,
   "metadata": {},
   "outputs": [
    {
     "data": {
      "text/plain": [
       "<AxesSubplot:xlabel='babies', ylabel='is_canceled'>"
      ]
     },
     "execution_count": 17,
     "metadata": {},
     "output_type": "execute_result"
    },
    {
     "data": {
      "image/png": "[encoded data removed]",
      "text/plain": [
       "<Figure size 432x288 with 1 Axes>"
      ]
     },
     "metadata": {},
     "output_type": "display_data"
    }
   ],
   "source": [
    "sns.barplot(x = 'babies', y = 'is_canceled', data = dataset)"
   ]
  },
  {
   "cell_type": "code",
   "execution_count": 18,
   "metadata": {},
   "outputs": [
    {
     "data": {
      "text/plain": [
       "<AxesSubplot:xlabel='deposit_type', ylabel='is_canceled'>"
      ]
     },
     "execution_count": 18,
     "metadata": {},
     "output_type": "execute_result"
    },
    {
     "data": {
      "image/png": "[encoded data removed]",
      "text/plain": [
       "<Figure size 432x288 with 1 Axes>"
      ]
     },
     "metadata": {},
     "output_type": "display_data"
    }
   ],
   "source": [
    "sns.barplot(x = 'deposit_type', y = 'is_canceled', data = dataset)"
   ]
  },
  {
   "cell_type": "code",
   "execution_count": 19,
   "metadata": {},
   "outputs": [
    {
     "data": {
      "text/plain": [
       "<AxesSubplot:xlabel='total_of_special_requests', ylabel='is_canceled'>"
      ]
     },
     "execution_count": 19,
     "metadata": {},
     "output_type": "execute_result"
    },
    {
     "data": {
      "image/png": "[encoded data removed]",
      "text/plain": [
       "<Figure size 432x288 with 1 Axes>"
      ]
     },
     "metadata": {},
     "output_type": "display_data"
    }
   ],
   "source": [
    "sns.barplot(x = 'total_of_special_requests', y = 'is_canceled', data = dataset)"
   ]
  },
  {
   "cell_type": "code",
   "execution_count": 20,
   "metadata": {},
   "outputs": [
    {
     "data": {
      "text/plain": [
       "hotel                              object\n",
       "is_canceled                         int64\n",
       "lead_time                           int64\n",
       "arrival_date_year                   int64\n",
       "arrival_date_month                 object\n",
       "arrival_date_week_number            int64\n",
       "arrival_date_day_of_month           int64\n",
       "stays_in_weekend_nights             int64\n",
       "stays_in_week_nights                int64\n",
       "adults                              int64\n",
       "children                          float64\n",
       "babies                              int64\n",
       "meal                               object\n",
       "country                            object\n",
       "market_segment                     object\n",
       "distribution_channel               object\n",
       "is_repeated_guest                   int64\n",
       "previous_cancellations              int64\n",
       "previous_bookings_not_canceled      int64\n",
       "reserved_room_type                 object\n",
       "assigned_room_type                 object\n",
       "booking_changes                     int64\n",
       "deposit_type                       object\n",
       "agent                             float64\n",
       "company                           float64\n",
       "days_in_waiting_list                int64\n",
       "customer_type                      object\n",
       "adr                               float64\n",
       "required_car_parking_spaces         int64\n",
       "total_of_special_requests           int64\n",
       "reservation_status                 object\n",
       "reservation_status_date            object\n",
       "dtype: object"
      ]
     },
     "execution_count": 20,
     "metadata": {},
     "output_type": "execute_result"
    }
   ],
   "source": [
    "dataset.dtypes"
   ]
  },
  {
   "cell_type": "code",
   "execution_count": 21,
   "metadata": {},
   "outputs": [],
   "source": [
    "dataset[['children', 'agent', 'company','adr']] = dataset[['children', 'agent', 'company','adr']].astype('int64') \n",
    "#convert float to int"
   ]
  },
  {
   "cell_type": "code",
   "execution_count": 22,
   "metadata": {},
   "outputs": [
    {
     "name": "stdout",
     "output_type": "stream",
     "text": [
      "<class 'pandas.core.frame.DataFrame'>\n",
      "RangeIndex: 119390 entries, 0 to 119389\n",
      "Data columns (total 32 columns):\n",
      " #   Column                          Non-Null Count   Dtype\n",
      "---  ------                          --------------   -----\n",
      " 0   hotel                           119390 non-null  int32\n",
      " 1   is_canceled                     119390 non-null  int64\n",
      " 2   lead_time                       119390 non-null  int64\n",
      " 3   arrival_date_year               119390 non-null  int64\n",
      " 4   arrival_date_month              119390 non-null  int32\n",
      " 5   arrival_date_week_number        119390 non-null  int64\n",
      " 6   arrival_date_day_of_month       119390 non-null  int64\n",
      " 7   stays_in_weekend_nights         119390 non-null  int64\n",
      " 8   stays_in_week_nights            119390 non-null  int64\n",
      " 9   adults                          119390 non-null  int64\n",
      " 10  children                        119390 non-null  int64\n",
      " 11  babies                          119390 non-null  int64\n",
      " 12  meal                            119390 non-null  int32\n",
      " 13  country                         119390 non-null  int32\n",
      " 14  market_segment                  119390 non-null  int32\n",
      " 15  distribution_channel            119390 non-null  int32\n",
      " 16  is_repeated_guest               119390 non-null  int64\n",
      " 17  previous_cancellations          119390 non-null  int64\n",
      " 18  previous_bookings_not_canceled  119390 non-null  int64\n",
      " 19  reserved_room_type              119390 non-null  int32\n",
      " 20  assigned_room_type              119390 non-null  int32\n",
      " 21  booking_changes                 119390 non-null  int64\n",
      " 22  deposit_type                    119390 non-null  int32\n",
      " 23  agent                           119390 non-null  int64\n",
      " 24  company                         119390 non-null  int64\n",
      " 25  days_in_waiting_list            119390 non-null  int64\n",
      " 26  customer_type                   119390 non-null  int32\n",
      " 27  adr                             119390 non-null  int64\n",
      " 28  required_car_parking_spaces     119390 non-null  int64\n",
      " 29  total_of_special_requests       119390 non-null  int64\n",
      " 30  reservation_status              119390 non-null  int32\n",
      " 31  reservation_status_date         119390 non-null  int32\n",
      "dtypes: int32(12), int64(20)\n",
      "memory usage: 23.7 MB\n"
     ]
    },
    {
     "data": {
      "text/plain": [
       "<bound method DataFrame.value_counts of         hotel  is_canceled  lead_time  arrival_date_year  arrival_date_month  \\\n",
       "0           1            0        342               2015                   5   \n",
       "1           1            0        737               2015                   5   \n",
       "2           1            0          7               2015                   5   \n",
       "3           1            0         13               2015                   5   \n",
       "4           1            0         14               2015                   5   \n",
       "...       ...          ...        ...                ...                 ...   \n",
       "119385      0            0         23               2017                   1   \n",
       "119386      0            0        102               2017                   1   \n",
       "119387      0            0         34               2017                   1   \n",
       "119388      0            0        109               2017                   1   \n",
       "119389      0            0        205               2017                   1   \n",
       "\n",
       "        arrival_date_week_number  arrival_date_day_of_month  \\\n",
       "0                             27                          1   \n",
       "1                             27                          1   \n",
       "2                             27                          1   \n",
       "3                             27                          1   \n",
       "4                             27                          1   \n",
       "...                          ...                        ...   \n",
       "119385                        35                         30   \n",
       "119386                        35                         31   \n",
       "119387                        35                         31   \n",
       "119388                        35                         31   \n",
       "119389                        35                         29   \n",
       "\n",
       "        stays_in_weekend_nights  stays_in_week_nights  adults  ...  \\\n",
       "0                             0                     0       2  ...   \n",
       "1                             0                     0       2  ...   \n",
       "2                             0                     1       1  ...   \n",
       "3                             0                     1       1  ...   \n",
       "4                             0                     2       2  ...   \n",
       "...                         ...                   ...     ...  ...   \n",
       "119385                        2                     5       2  ...   \n",
       "119386                        2                     5       3  ...   \n",
       "119387                        2                     5       2  ...   \n",
       "119388                        2                     5       2  ...   \n",
       "119389                        2                     7       2  ...   \n",
       "\n",
       "        deposit_type  agent  company  days_in_waiting_list  customer_type  \\\n",
       "0                  0      0        0                     0              2   \n",
       "1                  0      0        0                     0              2   \n",
       "2                  0      0        0                     0              2   \n",
       "3                  0    304        0                     0              2   \n",
       "4                  0    240        0                     0              2   \n",
       "...              ...    ...      ...                   ...            ...   \n",
       "119385             0    394        0                     0              2   \n",
       "119386             0      9        0                     0              2   \n",
       "119387             0      9        0                     0              2   \n",
       "119388             0     89        0                     0              2   \n",
       "119389             0      9        0                     0              2   \n",
       "\n",
       "        adr  required_car_parking_spaces  total_of_special_requests  \\\n",
       "0         0                            0                          0   \n",
       "1         0                            0                          0   \n",
       "2        75                            0                          0   \n",
       "3        75                            0                          0   \n",
       "4        98                            0                          1   \n",
       "...     ...                          ...                        ...   \n",
       "119385   96                            0                          0   \n",
       "119386  225                            0                          2   \n",
       "119387  157                            0                          4   \n",
       "119388  104                            0                          0   \n",
       "119389  151                            0                          2   \n",
       "\n",
       "        reservation_status  reservation_status_date  \n",
       "0                        1                      121  \n",
       "1                        1                      121  \n",
       "2                        1                      122  \n",
       "3                        1                      122  \n",
       "4                        1                      123  \n",
       "...                    ...                      ...  \n",
       "119385                   1                      919  \n",
       "119386                   1                      920  \n",
       "119387                   1                      920  \n",
       "119388                   1                      920  \n",
       "119389                   1                      920  \n",
       "\n",
       "[119390 rows x 32 columns]>"
      ]
     },
     "execution_count": 22,
     "metadata": {},
     "output_type": "execute_result"
    }
   ],
   "source": [
    "le = LabelEncoder()\n",
    "dataset['hotel']=le.fit_transform(dataset['hotel'])\n",
    "dataset['arrival_date_month']=le.fit_transform(dataset['arrival_date_month'])\n",
    "dataset['meal']=le.fit_transform(dataset['meal'])\n",
    "dataset['country']=le.fit_transform(dataset['country'])\n",
    "dataset['market_segment']=le.fit_transform(dataset['market_segment'])\n",
    "dataset['distribution_channel']=le.fit_transform(dataset['distribution_channel'])\n",
    "dataset['reserved_room_type']=le.fit_transform(dataset['reserved_room_type'])\n",
    "dataset['assigned_room_type']=le.fit_transform(dataset['assigned_room_type'])\n",
    "dataset['deposit_type']=le.fit_transform(dataset['deposit_type'])\n",
    "dataset['customer_type']=le.fit_transform(dataset['customer_type'])\n",
    "dataset['reservation_status']=le.fit_transform(dataset['reservation_status'])\n",
    "dataset['reservation_status_date']=le.fit_transform(dataset['reservation_status_date'])\n",
    "#convert categorical columns from object to int with LabelEncoder\n",
    "dataset.info()\n",
    "dataset.value_counts"
   ]
  },
  {
   "cell_type": "code",
   "execution_count": 23,
   "metadata": {},
   "outputs": [
    {
     "name": "stdout",
     "output_type": "stream",
     "text": [
      "<class 'pandas.core.frame.DataFrame'>\n",
      "RangeIndex: 119390 entries, 0 to 119389\n",
      "Data columns (total 32 columns):\n",
      " #   Column                          Non-Null Count   Dtype\n",
      "---  ------                          --------------   -----\n",
      " 0   hotel                           119390 non-null  int64\n",
      " 1   is_canceled                     119390 non-null  int64\n",
      " 2   lead_time                       119390 non-null  int64\n",
      " 3   arrival_date_year               119390 non-null  int64\n",
      " 4   arrival_date_month              119390 non-null  int64\n",
      " 5   arrival_date_week_number        119390 non-null  int64\n",
      " 6   arrival_date_day_of_month       119390 non-null  int64\n",
      " 7   stays_in_weekend_nights         119390 non-null  int64\n",
      " 8   stays_in_week_nights            119390 non-null  int64\n",
      " 9   adults                          119390 non-null  int64\n",
      " 10  children                        119390 non-null  int64\n",
      " 11  babies                          119390 non-null  int64\n",
      " 12  meal                            119390 non-null  int64\n",
      " 13  country                         119390 non-null  int64\n",
      " 14  market_segment                  119390 non-null  int64\n",
      " 15  distribution_channel            119390 non-null  int64\n",
      " 16  is_repeated_guest               119390 non-null  int64\n",
      " 17  previous_cancellations          119390 non-null  int64\n",
      " 18  previous_bookings_not_canceled  119390 non-null  int64\n",
      " 19  reserved_room_type              119390 non-null  int64\n",
      " 20  assigned_room_type              119390 non-null  int64\n",
      " 21  booking_changes                 119390 non-null  int64\n",
      " 22  deposit_type                    119390 non-null  int64\n",
      " 23  agent                           119390 non-null  int64\n",
      " 24  company                         119390 non-null  int64\n",
      " 25  days_in_waiting_list            119390 non-null  int64\n",
      " 26  customer_type                   119390 non-null  int64\n",
      " 27  adr                             119390 non-null  int64\n",
      " 28  required_car_parking_spaces     119390 non-null  int64\n",
      " 29  total_of_special_requests       119390 non-null  int64\n",
      " 30  reservation_status              119390 non-null  int64\n",
      " 31  reservation_status_date         119390 non-null  int64\n",
      "dtypes: int64(32)\n",
      "memory usage: 29.1 MB\n"
     ]
    }
   ],
   "source": [
    "dataset[['hotel','arrival_date_month','meal','country','market_segment','distribution_channel','reserved_room_type','assigned_room_type','deposit_type','customer_type','reservation_status','reservation_status_date']]=dataset[['hotel','arrival_date_month','meal','country','market_segment','distribution_channel','reserved_room_type','assigned_room_type','deposit_type','customer_type','reservation_status','reservation_status_date']].astype('int64') \n",
    "dataset.info()"
   ]
  },
  {
   "cell_type": "code",
   "execution_count": 24,
   "metadata": {},
   "outputs": [],
   "source": [
    "x= dataset[['hotel', 'deposit_type']]\n",
    "y= dataset['is_canceled']\n",
    "#the columns we want to train"
   ]
  },
  {
   "cell_type": "code",
   "execution_count": 25,
   "metadata": {},
   "outputs": [],
   "source": [
    "x_train,x_test,y_train,y_test=train_test_split(x,y,test_size=0.2) #80% training -- 20% test\n",
    "classifier= dtc(max_depth=13, random_state=45)\n",
    "classifier.fit(x_train,y_train)\n",
    "y_pred=classifier.predict(x_test)"
   ]
  },
  {
   "cell_type": "code",
   "execution_count": 26,
   "metadata": {},
   "outputs": [
    {
     "name": "stdout",
     "output_type": "stream",
     "text": [
      "Accuracy: 0.7511516877460424\n",
      "              precision    recall  f1-score   support\n",
      "\n",
      "           0       0.72      1.00      0.84     15054\n",
      "           1       0.99      0.33      0.49      8824\n",
      "\n",
      "    accuracy                           0.75     23878\n",
      "   macro avg       0.86      0.66      0.66     23878\n",
      "weighted avg       0.82      0.75      0.71     23878\n",
      "\n"
     ]
    }
   ],
   "source": [
    "accuracy=accuracy_score(y_test,y_pred)\n",
    "print(\"Accuracy:\", accuracy)\n",
    "print(classification_report(y_test, y_pred))"
   ]
  },
  {
   "cell_type": "code",
   "execution_count": 27,
   "metadata": {},
   "outputs": [
    {
     "name": "stdout",
     "output_type": "stream",
     "text": [
      "Confusion Matrix [[15039    15]\n",
      " [ 5927  2897]]\n"
     ]
    }
   ],
   "source": [
    "cmat=confusion_matrix(y_test,y_pred)\n",
    "print(\"Confusion Matrix\", cmat)"
   ]
  },
  {
   "cell_type": "code",
   "execution_count": 28,
   "metadata": {},
   "outputs": [
    {
     "data": {
      "image/png": "[encoded data removed]",
      "text/plain": [
       "<Figure size 432x288 with 1 Axes>"
      ]
     },
     "metadata": {},
     "output_type": "display_data"
    }
   ],
   "source": [
    "a=tree.plot_tree(classifier)"
   ]
  }
 ],
 "metadata": {
  "interpreter": {
   "hash": "9afa5efd64d8037d5e7a4b3d0be1fbc12a309c1e88a4d187ed5af0a5e219c018"
  },
  "kernelspec": {
   "display_name": "Python 3.9.5 64-bit",
   "language": "python",
   "name": "python3"
  },
  "language_info": {
   "codemirror_mode": {
    "name": "ipython",
    "version": 3
   },
   "file_extension": ".py",
   "mimetype": "text/x-python",
   "name": "python",
   "nbconvert_exporter": "python",
   "pygments_lexer": "ipython3",
   "version": "3.9.5"
  },
  "orig_nbformat": 4
 },
 "nbformat": 4,
 "nbformat_minor": 2
}
